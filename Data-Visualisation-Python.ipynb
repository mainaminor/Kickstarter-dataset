{
 "cells": [
  {
   "cell_type": "markdown",
   "metadata": {
    "hideCode": false,
    "hidePrompt": true
   },
   "source": [
    "### Data Science Immersive Admissions Task"
   ]
  },
  {
   "cell_type": "markdown",
   "metadata": {
    "hideCode": false,
    "hidePrompt": true
   },
   "source": [
    "**Part 1: Foundational Data Analysis**\n",
    "\n",
    "Kickstarter, the crowdfunding platform, is thinking about providing a consulting service to project founders to help its customers create more successful crowdfunding campaigns. You’ve been asked to do some initial analysis. \n",
    "\n",
    "In order to complete this assignment, please follow the link and download the following Kickstarter dataset: http://bit.ly/2cgMGDm. Use the dataset to complete this task.\n",
    "\n",
    "We are tools agnostics, you can use any tools you’d like: Excel, Python, SQL, Tableau, Google spreadsheets, etc. We recommend using whatever tool you know best, we're here to find out how you think about solving data problems, not which tool you can do it in.\n",
    "\n",
    "**Part 2: Qualitative analysis**\n",
    "\n",
    "Create a presentation using Google Slides (max. 5 slides) using the data above (and additional data from those tables) that make clear recommendations on how people can create a successful Kickstarter campaign.\n",
    "\n",
    "Be sure to consider the following:\n",
    "\n",
    "- What's the best length of time to run a campaign?\n",
    "- What's the ideal pledge goal?\n",
    "- What type of projects would be most successful at getting funded?\n",
    "- Is there an ideal month/day/time to launch a campaign"
   ]
  },
  {
   "cell_type": "markdown",
   "metadata": {},
   "source": [
    "### Data cleaning"
   ]
  },
  {
   "cell_type": "code",
   "execution_count": 1,
   "metadata": {
    "hideCode": false,
    "hidePrompt": true
   },
   "outputs": [],
   "source": [
    "#Load libraries, set seaborn format for plots\n",
    "import pandas as pd\n",
    "import numpy as np\n",
    "import matplotlib.pyplot as plt\n",
    "import seaborn as sns\n",
    "from dateutil.parser import parse \n",
    "sns.set()"
   ]
  },
  {
   "cell_type": "code",
   "execution_count": 2,
   "metadata": {
    "hideCode": false,
    "hidePrompt": true
   },
   "outputs": [
    {
     "name": "stdout",
     "output_type": "stream",
     "text": [
      "(45957, 17)\n"
     ]
    },
    {
     "data": {
      "text/html": [
       "<div>\n",
       "<style scoped>\n",
       "    .dataframe tbody tr th:only-of-type {\n",
       "        vertical-align: middle;\n",
       "    }\n",
       "\n",
       "    .dataframe tbody tr th {\n",
       "        vertical-align: top;\n",
       "    }\n",
       "\n",
       "    .dataframe thead th {\n",
       "        text-align: right;\n",
       "    }\n",
       "</style>\n",
       "<table border=\"1\" class=\"dataframe\">\n",
       "  <thead>\n",
       "    <tr style=\"text-align: right;\">\n",
       "      <th></th>\n",
       "      <th>project id</th>\n",
       "      <th>name</th>\n",
       "      <th>url</th>\n",
       "      <th>category</th>\n",
       "      <th>subcategory</th>\n",
       "      <th>location</th>\n",
       "      <th>status</th>\n",
       "      <th>goal</th>\n",
       "      <th>pledged</th>\n",
       "      <th>funded percentage</th>\n",
       "      <th>backers</th>\n",
       "      <th>funded date</th>\n",
       "      <th>levels</th>\n",
       "      <th>reward levels</th>\n",
       "      <th>updates</th>\n",
       "      <th>comments</th>\n",
       "      <th>duration</th>\n",
       "    </tr>\n",
       "  </thead>\n",
       "  <tbody>\n",
       "    <tr>\n",
       "      <td>0</td>\n",
       "      <td>39409</td>\n",
       "      <td>WHILE THE TREES SLEEP</td>\n",
       "      <td>http://www.kickstarter.com/projects/emiliesaba...</td>\n",
       "      <td>Film &amp; Video</td>\n",
       "      <td>Short Film</td>\n",
       "      <td>Columbia, MO</td>\n",
       "      <td>successful</td>\n",
       "      <td>10500.0</td>\n",
       "      <td>11545.0</td>\n",
       "      <td>1.099524</td>\n",
       "      <td>66</td>\n",
       "      <td>Fri, 19 Aug 2011 19:28:17 -0000</td>\n",
       "      <td>7</td>\n",
       "      <td>$25,$50,$100,$250,$500,$1,000,$2,500</td>\n",
       "      <td>10</td>\n",
       "      <td>2</td>\n",
       "      <td>30.00</td>\n",
       "    </tr>\n",
       "    <tr>\n",
       "      <td>1</td>\n",
       "      <td>126581</td>\n",
       "      <td>Educational Online Trading Card Game</td>\n",
       "      <td>http://www.kickstarter.com/projects/972789543/...</td>\n",
       "      <td>Games</td>\n",
       "      <td>Board &amp; Card Games</td>\n",
       "      <td>Maplewood, NJ</td>\n",
       "      <td>failed</td>\n",
       "      <td>4000.0</td>\n",
       "      <td>20.0</td>\n",
       "      <td>0.005000</td>\n",
       "      <td>2</td>\n",
       "      <td>Mon, 02 Aug 2010 03:59:00 -0000</td>\n",
       "      <td>5</td>\n",
       "      <td>$1,$5,$10,$25,$50</td>\n",
       "      <td>6</td>\n",
       "      <td>0</td>\n",
       "      <td>47.18</td>\n",
       "    </tr>\n",
       "    <tr>\n",
       "      <td>2</td>\n",
       "      <td>138119</td>\n",
       "      <td>STRUM</td>\n",
       "      <td>http://www.kickstarter.com/projects/185476022/...</td>\n",
       "      <td>Film &amp; Video</td>\n",
       "      <td>Animation</td>\n",
       "      <td>Los Angeles, CA</td>\n",
       "      <td>live</td>\n",
       "      <td>20000.0</td>\n",
       "      <td>56.0</td>\n",
       "      <td>0.002800</td>\n",
       "      <td>3</td>\n",
       "      <td>Fri, 08 Jun 2012 00:00:31 -0000</td>\n",
       "      <td>10</td>\n",
       "      <td>$1,$10,$25,$40,$50,$100,$250,$1,000,$1,337,$9,001</td>\n",
       "      <td>1</td>\n",
       "      <td>0</td>\n",
       "      <td>28.00</td>\n",
       "    </tr>\n",
       "    <tr>\n",
       "      <td>3</td>\n",
       "      <td>237090</td>\n",
       "      <td>GETTING OVER - One son's search to finally kno...</td>\n",
       "      <td>http://www.kickstarter.com/projects/charnick/g...</td>\n",
       "      <td>Film &amp; Video</td>\n",
       "      <td>Documentary</td>\n",
       "      <td>Los Angeles, CA</td>\n",
       "      <td>successful</td>\n",
       "      <td>6000.0</td>\n",
       "      <td>6535.0</td>\n",
       "      <td>1.089167</td>\n",
       "      <td>100</td>\n",
       "      <td>Sun, 08 Apr 2012 02:14:00 -0000</td>\n",
       "      <td>13</td>\n",
       "      <td>$1,$10,$25,$30,$50,$75,$85,$100,$110,$250,$500...</td>\n",
       "      <td>4</td>\n",
       "      <td>0</td>\n",
       "      <td>32.22</td>\n",
       "    </tr>\n",
       "    <tr>\n",
       "      <td>4</td>\n",
       "      <td>246101</td>\n",
       "      <td>The Launch of FlyeGrlRoyalty &amp;quot;The New Nam...</td>\n",
       "      <td>http://www.kickstarter.com/projects/flyegrlroy...</td>\n",
       "      <td>Fashion</td>\n",
       "      <td>Fashion</td>\n",
       "      <td>Novi, MI</td>\n",
       "      <td>failed</td>\n",
       "      <td>3500.0</td>\n",
       "      <td>0.0</td>\n",
       "      <td>0.000000</td>\n",
       "      <td>0</td>\n",
       "      <td>Wed, 01 Jun 2011 15:25:39 -0000</td>\n",
       "      <td>6</td>\n",
       "      <td>$10,$25,$50,$100,$150,$250</td>\n",
       "      <td>2</td>\n",
       "      <td>0</td>\n",
       "      <td>30.00</td>\n",
       "    </tr>\n",
       "  </tbody>\n",
       "</table>\n",
       "</div>"
      ],
      "text/plain": [
       "   project id                                               name  \\\n",
       "0       39409                              WHILE THE TREES SLEEP   \n",
       "1      126581               Educational Online Trading Card Game   \n",
       "2      138119                                              STRUM   \n",
       "3      237090  GETTING OVER - One son's search to finally kno...   \n",
       "4      246101  The Launch of FlyeGrlRoyalty &quot;The New Nam...   \n",
       "\n",
       "                                                 url      category  \\\n",
       "0  http://www.kickstarter.com/projects/emiliesaba...  Film & Video   \n",
       "1  http://www.kickstarter.com/projects/972789543/...         Games   \n",
       "2  http://www.kickstarter.com/projects/185476022/...  Film & Video   \n",
       "3  http://www.kickstarter.com/projects/charnick/g...  Film & Video   \n",
       "4  http://www.kickstarter.com/projects/flyegrlroy...       Fashion   \n",
       "\n",
       "          subcategory         location      status     goal  pledged  \\\n",
       "0          Short Film     Columbia, MO  successful  10500.0  11545.0   \n",
       "1  Board & Card Games    Maplewood, NJ      failed   4000.0     20.0   \n",
       "2           Animation  Los Angeles, CA        live  20000.0     56.0   \n",
       "3         Documentary  Los Angeles, CA  successful   6000.0   6535.0   \n",
       "4             Fashion         Novi, MI      failed   3500.0      0.0   \n",
       "\n",
       "   funded percentage  backers                      funded date  levels  \\\n",
       "0           1.099524       66  Fri, 19 Aug 2011 19:28:17 -0000       7   \n",
       "1           0.005000        2  Mon, 02 Aug 2010 03:59:00 -0000       5   \n",
       "2           0.002800        3  Fri, 08 Jun 2012 00:00:31 -0000      10   \n",
       "3           1.089167      100  Sun, 08 Apr 2012 02:14:00 -0000      13   \n",
       "4           0.000000        0  Wed, 01 Jun 2011 15:25:39 -0000       6   \n",
       "\n",
       "                                       reward levels  updates  comments  \\\n",
       "0               $25,$50,$100,$250,$500,$1,000,$2,500       10         2   \n",
       "1                                  $1,$5,$10,$25,$50        6         0   \n",
       "2  $1,$10,$25,$40,$50,$100,$250,$1,000,$1,337,$9,001        1         0   \n",
       "3  $1,$10,$25,$30,$50,$75,$85,$100,$110,$250,$500...        4         0   \n",
       "4                         $10,$25,$50,$100,$150,$250        2         0   \n",
       "\n",
       "   duration  \n",
       "0     30.00  \n",
       "1     47.18  \n",
       "2     28.00  \n",
       "3     32.22  \n",
       "4     30.00  "
      ]
     },
     "execution_count": 2,
     "metadata": {},
     "output_type": "execute_result"
    }
   ],
   "source": [
    "#Load data into dataframe\n",
    "df = pd.read_excel(\"DSI_kickstarterscrape_dataset.xlsx\")\n",
    "print(df.shape)\n",
    "df.head()"
   ]
  },
  {
   "cell_type": "code",
   "execution_count": 3,
   "metadata": {
    "hideCode": false,
    "hidePrompt": true
   },
   "outputs": [
    {
     "data": {
      "text/plain": [
       "89"
      ]
     },
     "execution_count": 3,
     "metadata": {},
     "output_type": "execute_result"
    }
   ],
   "source": [
    "#Check for duplicates\n",
    "sum(df.duplicated())"
   ]
  },
  {
   "cell_type": "code",
   "execution_count": 4,
   "metadata": {
    "hideCode": false,
    "hidePrompt": true
   },
   "outputs": [
    {
     "name": "stdout",
     "output_type": "stream",
     "text": [
      "(45868, 17)\n"
     ]
    },
    {
     "data": {
      "text/html": [
       "<div>\n",
       "<style scoped>\n",
       "    .dataframe tbody tr th:only-of-type {\n",
       "        vertical-align: middle;\n",
       "    }\n",
       "\n",
       "    .dataframe tbody tr th {\n",
       "        vertical-align: top;\n",
       "    }\n",
       "\n",
       "    .dataframe thead th {\n",
       "        text-align: right;\n",
       "    }\n",
       "</style>\n",
       "<table border=\"1\" class=\"dataframe\">\n",
       "  <thead>\n",
       "    <tr style=\"text-align: right;\">\n",
       "      <th></th>\n",
       "      <th>project id</th>\n",
       "      <th>name</th>\n",
       "      <th>url</th>\n",
       "      <th>category</th>\n",
       "      <th>subcategory</th>\n",
       "      <th>location</th>\n",
       "      <th>status</th>\n",
       "      <th>goal</th>\n",
       "      <th>pledged</th>\n",
       "      <th>funded percentage</th>\n",
       "      <th>backers</th>\n",
       "      <th>funded date</th>\n",
       "      <th>levels</th>\n",
       "      <th>reward levels</th>\n",
       "      <th>updates</th>\n",
       "      <th>comments</th>\n",
       "      <th>duration</th>\n",
       "    </tr>\n",
       "  </thead>\n",
       "  <tbody>\n",
       "    <tr>\n",
       "      <td>0</td>\n",
       "      <td>39409</td>\n",
       "      <td>WHILE THE TREES SLEEP</td>\n",
       "      <td>http://www.kickstarter.com/projects/emiliesaba...</td>\n",
       "      <td>Film &amp; Video</td>\n",
       "      <td>Short Film</td>\n",
       "      <td>Columbia, MO</td>\n",
       "      <td>successful</td>\n",
       "      <td>10500.0</td>\n",
       "      <td>11545.0</td>\n",
       "      <td>1.099524</td>\n",
       "      <td>66</td>\n",
       "      <td>Fri, 19 Aug 2011 19:28:17 -0000</td>\n",
       "      <td>7</td>\n",
       "      <td>$25,$50,$100,$250,$500,$1,000,$2,500</td>\n",
       "      <td>10</td>\n",
       "      <td>2</td>\n",
       "      <td>30.00</td>\n",
       "    </tr>\n",
       "    <tr>\n",
       "      <td>1</td>\n",
       "      <td>126581</td>\n",
       "      <td>Educational Online Trading Card Game</td>\n",
       "      <td>http://www.kickstarter.com/projects/972789543/...</td>\n",
       "      <td>Games</td>\n",
       "      <td>Board &amp; Card Games</td>\n",
       "      <td>Maplewood, NJ</td>\n",
       "      <td>failed</td>\n",
       "      <td>4000.0</td>\n",
       "      <td>20.0</td>\n",
       "      <td>0.005000</td>\n",
       "      <td>2</td>\n",
       "      <td>Mon, 02 Aug 2010 03:59:00 -0000</td>\n",
       "      <td>5</td>\n",
       "      <td>$1,$5,$10,$25,$50</td>\n",
       "      <td>6</td>\n",
       "      <td>0</td>\n",
       "      <td>47.18</td>\n",
       "    </tr>\n",
       "    <tr>\n",
       "      <td>2</td>\n",
       "      <td>138119</td>\n",
       "      <td>STRUM</td>\n",
       "      <td>http://www.kickstarter.com/projects/185476022/...</td>\n",
       "      <td>Film &amp; Video</td>\n",
       "      <td>Animation</td>\n",
       "      <td>Los Angeles, CA</td>\n",
       "      <td>live</td>\n",
       "      <td>20000.0</td>\n",
       "      <td>56.0</td>\n",
       "      <td>0.002800</td>\n",
       "      <td>3</td>\n",
       "      <td>Fri, 08 Jun 2012 00:00:31 -0000</td>\n",
       "      <td>10</td>\n",
       "      <td>$1,$10,$25,$40,$50,$100,$250,$1,000,$1,337,$9,001</td>\n",
       "      <td>1</td>\n",
       "      <td>0</td>\n",
       "      <td>28.00</td>\n",
       "    </tr>\n",
       "    <tr>\n",
       "      <td>3</td>\n",
       "      <td>237090</td>\n",
       "      <td>GETTING OVER - One son's search to finally kno...</td>\n",
       "      <td>http://www.kickstarter.com/projects/charnick/g...</td>\n",
       "      <td>Film &amp; Video</td>\n",
       "      <td>Documentary</td>\n",
       "      <td>Los Angeles, CA</td>\n",
       "      <td>successful</td>\n",
       "      <td>6000.0</td>\n",
       "      <td>6535.0</td>\n",
       "      <td>1.089167</td>\n",
       "      <td>100</td>\n",
       "      <td>Sun, 08 Apr 2012 02:14:00 -0000</td>\n",
       "      <td>13</td>\n",
       "      <td>$1,$10,$25,$30,$50,$75,$85,$100,$110,$250,$500...</td>\n",
       "      <td>4</td>\n",
       "      <td>0</td>\n",
       "      <td>32.22</td>\n",
       "    </tr>\n",
       "    <tr>\n",
       "      <td>4</td>\n",
       "      <td>246101</td>\n",
       "      <td>The Launch of FlyeGrlRoyalty &amp;quot;The New Nam...</td>\n",
       "      <td>http://www.kickstarter.com/projects/flyegrlroy...</td>\n",
       "      <td>Fashion</td>\n",
       "      <td>Fashion</td>\n",
       "      <td>Novi, MI</td>\n",
       "      <td>failed</td>\n",
       "      <td>3500.0</td>\n",
       "      <td>0.0</td>\n",
       "      <td>0.000000</td>\n",
       "      <td>0</td>\n",
       "      <td>Wed, 01 Jun 2011 15:25:39 -0000</td>\n",
       "      <td>6</td>\n",
       "      <td>$10,$25,$50,$100,$150,$250</td>\n",
       "      <td>2</td>\n",
       "      <td>0</td>\n",
       "      <td>30.00</td>\n",
       "    </tr>\n",
       "  </tbody>\n",
       "</table>\n",
       "</div>"
      ],
      "text/plain": [
       "   project id                                               name  \\\n",
       "0       39409                              WHILE THE TREES SLEEP   \n",
       "1      126581               Educational Online Trading Card Game   \n",
       "2      138119                                              STRUM   \n",
       "3      237090  GETTING OVER - One son's search to finally kno...   \n",
       "4      246101  The Launch of FlyeGrlRoyalty &quot;The New Nam...   \n",
       "\n",
       "                                                 url      category  \\\n",
       "0  http://www.kickstarter.com/projects/emiliesaba...  Film & Video   \n",
       "1  http://www.kickstarter.com/projects/972789543/...         Games   \n",
       "2  http://www.kickstarter.com/projects/185476022/...  Film & Video   \n",
       "3  http://www.kickstarter.com/projects/charnick/g...  Film & Video   \n",
       "4  http://www.kickstarter.com/projects/flyegrlroy...       Fashion   \n",
       "\n",
       "          subcategory         location      status     goal  pledged  \\\n",
       "0          Short Film     Columbia, MO  successful  10500.0  11545.0   \n",
       "1  Board & Card Games    Maplewood, NJ      failed   4000.0     20.0   \n",
       "2           Animation  Los Angeles, CA        live  20000.0     56.0   \n",
       "3         Documentary  Los Angeles, CA  successful   6000.0   6535.0   \n",
       "4             Fashion         Novi, MI      failed   3500.0      0.0   \n",
       "\n",
       "   funded percentage  backers                      funded date  levels  \\\n",
       "0           1.099524       66  Fri, 19 Aug 2011 19:28:17 -0000       7   \n",
       "1           0.005000        2  Mon, 02 Aug 2010 03:59:00 -0000       5   \n",
       "2           0.002800        3  Fri, 08 Jun 2012 00:00:31 -0000      10   \n",
       "3           1.089167      100  Sun, 08 Apr 2012 02:14:00 -0000      13   \n",
       "4           0.000000        0  Wed, 01 Jun 2011 15:25:39 -0000       6   \n",
       "\n",
       "                                       reward levels  updates  comments  \\\n",
       "0               $25,$50,$100,$250,$500,$1,000,$2,500       10         2   \n",
       "1                                  $1,$5,$10,$25,$50        6         0   \n",
       "2  $1,$10,$25,$40,$50,$100,$250,$1,000,$1,337,$9,001        1         0   \n",
       "3  $1,$10,$25,$30,$50,$75,$85,$100,$110,$250,$500...        4         0   \n",
       "4                         $10,$25,$50,$100,$150,$250        2         0   \n",
       "\n",
       "   duration  \n",
       "0     30.00  \n",
       "1     47.18  \n",
       "2     28.00  \n",
       "3     32.22  \n",
       "4     30.00  "
      ]
     },
     "execution_count": 4,
     "metadata": {},
     "output_type": "execute_result"
    }
   ],
   "source": [
    "#Drop duplicates\n",
    "df=df.drop_duplicates()\n",
    "df=df.reset_index(drop=True)\n",
    "print(df.shape)\n",
    "df.head()"
   ]
  },
  {
   "cell_type": "code",
   "execution_count": 5,
   "metadata": {
    "hideCode": false,
    "hidePrompt": true
   },
   "outputs": [
    {
     "name": "stdout",
     "output_type": "stream",
     "text": [
      "['name', dtype('O'), 5]\n",
      "['location', dtype('O'), 1321]\n",
      "['pledged', dtype('float64'), 12]\n",
      "['reward levels', dtype('O'), 59]\n"
     ]
    }
   ],
   "source": [
    "#Inspect dataframe for data type and all features containing at least one null value\n",
    "for i in range(len(df.columns)):\n",
    "    if sum(pd.isnull(df[df.columns[i]]))>0:\n",
    "        print([df.columns[i], df[df.columns[i]].dtypes, sum(pd.isnull(df[df.columns[i]]))])"
   ]
  },
  {
   "cell_type": "code",
   "execution_count": 6,
   "metadata": {
    "hideCode": false,
    "hidePrompt": true
   },
   "outputs": [],
   "source": [
    "#Replace null values with broadly appropriate plugs\n",
    "df.loc[:, \"pledged\"] = df.loc[:, \"pledged\"].fillna(df.pledged.median())\n",
    "df.loc[:, \"location\"] = df.loc[:, \"location\"].fillna(\"Unknown\")\n",
    "df.loc[:, \"name\"] = df.loc[:, \"name\"].fillna(\"NOT SPECIFIED\")\n",
    "df.loc[:, \"reward levels\"] = df.loc[:, \"reward levels\"].fillna(\"Unknown\")"
   ]
  },
  {
   "cell_type": "code",
   "execution_count": 7,
   "metadata": {},
   "outputs": [],
   "source": [
    "#Confirm null values have been removed\n",
    "for i in range(len(df.columns)):\n",
    "    if sum(pd.isnull(df[df.columns[i]]))>0:\n",
    "        print([df.columns[i], df[df.columns[i]].dtypes, sum(pd.isnull(df[df.columns[i]]))])"
   ]
  },
  {
   "cell_type": "code",
   "execution_count": 8,
   "metadata": {},
   "outputs": [
    {
     "data": {
      "text/plain": [
       "{'Art',\n",
       " 'Comics',\n",
       " 'Dance',\n",
       " 'Design',\n",
       " 'Fashion',\n",
       " 'Film & Video',\n",
       " 'Film &amp; Video',\n",
       " 'Food',\n",
       " 'Games',\n",
       " 'Music',\n",
       " 'Photography',\n",
       " 'Publishing',\n",
       " 'Technology',\n",
       " 'Theater'}"
      ]
     },
     "execution_count": 8,
     "metadata": {},
     "output_type": "execute_result"
    }
   ],
   "source": [
    "#Inspect category for typos & duplication\n",
    "set(df[\"category\"])"
   ]
  },
  {
   "cell_type": "markdown",
   "metadata": {},
   "source": [
    "**Film & Video** is duplicated as **Film &amp; Video**"
   ]
  },
  {
   "cell_type": "code",
   "execution_count": 9,
   "metadata": {},
   "outputs": [
    {
     "data": {
      "text/plain": [
       "{'Animation',\n",
       " 'Art',\n",
       " 'Art Book',\n",
       " 'Board & Card Games',\n",
       " 'Board &amp; Card Games',\n",
       " \"Children's Book\",\n",
       " 'Classical Music',\n",
       " 'Comics',\n",
       " 'Conceptual Art',\n",
       " 'Country & Folk',\n",
       " 'Country &amp; Folk',\n",
       " 'Crafts',\n",
       " 'Dance',\n",
       " 'Design',\n",
       " 'Digital Art',\n",
       " 'Documentary',\n",
       " 'Electronic Music',\n",
       " 'Fashion',\n",
       " 'Fiction',\n",
       " 'Film &amp; Video',\n",
       " 'Food',\n",
       " 'Games',\n",
       " 'Graphic Design',\n",
       " 'Hip-Hop',\n",
       " 'Illustration',\n",
       " 'Indie Rock',\n",
       " 'Jazz',\n",
       " 'Journalism',\n",
       " 'Mixed Media',\n",
       " 'Music',\n",
       " 'Narrative Film',\n",
       " 'Nonfiction',\n",
       " 'Open Hardware',\n",
       " 'Open Software',\n",
       " 'Painting',\n",
       " 'Performance Art',\n",
       " 'Periodical',\n",
       " 'Photography',\n",
       " 'Poetry',\n",
       " 'Pop',\n",
       " 'Product Design',\n",
       " 'Public Art',\n",
       " 'Publishing',\n",
       " 'Rock',\n",
       " 'Sculpture',\n",
       " 'Short Film',\n",
       " 'Technology',\n",
       " 'Theater',\n",
       " 'Video Games',\n",
       " 'Webseries',\n",
       " 'World Music'}"
      ]
     },
     "execution_count": 9,
     "metadata": {},
     "output_type": "execute_result"
    }
   ],
   "source": [
    "#Inspect category for typos & duplication\n",
    "set(df[\"subcategory\"])"
   ]
  },
  {
   "cell_type": "markdown",
   "metadata": {},
   "source": [
    "In addition to **Film & Video**, **Country & Folk** and **Board & Card Games** are duplicated"
   ]
  },
  {
   "cell_type": "code",
   "execution_count": 10,
   "metadata": {},
   "outputs": [],
   "source": [
    "#Replace duplicated category and sub-category names\n",
    "df=df.replace([\"Film &amp; Video\", \"Country &amp; Folk\",\"Board &amp; Card Games\"], \n",
    "              [\"Film & Video\", \"Country & Folk\",\"Board & Card Games\"])"
   ]
  },
  {
   "cell_type": "markdown",
   "metadata": {},
   "source": [
    "Convert **funded date** to date-time format"
   ]
  },
  {
   "cell_type": "code",
   "execution_count": 11,
   "metadata": {},
   "outputs": [],
   "source": [
    "df.loc[:, \"funded date\"] = df.loc[:, \"funded date\"].apply(parse)"
   ]
  },
  {
   "cell_type": "code",
   "execution_count": 12,
   "metadata": {},
   "outputs": [],
   "source": [
    "df[\"funded month\"]=df[\"funded date\"].dt.month\n",
    "df[\"funded dow\"]=df[\"funded date\"].dt.dayofweek\n",
    "df[\"funded hour\"]=df[\"funded date\"].dt.hour"
   ]
  },
  {
   "cell_type": "markdown",
   "metadata": {},
   "source": [
    "Add **numerical success/fail feature**"
   ]
  },
  {
   "cell_type": "code",
   "execution_count": 13,
   "metadata": {},
   "outputs": [],
   "source": [
    "s_f=[]\n",
    "for i in range(len(df[\"status\"])):\n",
    "    if df[\"status\"][i]==\"successful\":\n",
    "        s_f.append(1)\n",
    "    else:\n",
    "        s_f.append(0)"
   ]
  },
  {
   "cell_type": "code",
   "execution_count": 14,
   "metadata": {},
   "outputs": [],
   "source": [
    "df[\"success_fail\"]=s_f"
   ]
  },
  {
   "cell_type": "markdown",
   "metadata": {},
   "source": [
    "Simplify **location** by classifying as either a US state or \"Outside US\""
   ]
  },
  {
   "cell_type": "code",
   "execution_count": 15,
   "metadata": {},
   "outputs": [],
   "source": [
    "state=df[\"location\"].str.slice(start=-2)"
   ]
  },
  {
   "cell_type": "code",
   "execution_count": 16,
   "metadata": {},
   "outputs": [],
   "source": [
    "state_2=[]\n",
    "for i in state:\n",
    "    if i.isupper()==1:\n",
    "        state_2.append(i)\n",
    "    else:\n",
    "        state_2.append(\"Outside US\")"
   ]
  },
  {
   "cell_type": "code",
   "execution_count": 17,
   "metadata": {},
   "outputs": [
    {
     "data": {
      "text/plain": [
       "['AR',\n",
       " 'AZ',\n",
       " 'OH',\n",
       " 'NH',\n",
       " 'CA',\n",
       " 'WA',\n",
       " 'AK',\n",
       " 'MO',\n",
       " 'GA',\n",
       " 'IL',\n",
       " 'MA',\n",
       " 'Outside US',\n",
       " 'CO',\n",
       " 'TN',\n",
       " 'MI',\n",
       " 'UT',\n",
       " 'ID',\n",
       " 'VT',\n",
       " 'S.',\n",
       " 'OR',\n",
       " 'CT',\n",
       " 'WI',\n",
       " 'ME',\n",
       " 'RI',\n",
       " 'NJ',\n",
       " 'AL',\n",
       " 'IA',\n",
       " 'ND',\n",
       " 'PA',\n",
       " 'HI',\n",
       " 'MD',\n",
       " 'WY',\n",
       " 'DC',\n",
       " 'MT',\n",
       " 'OK',\n",
       " 'NY',\n",
       " 'NM',\n",
       " 'MN',\n",
       " 'TX',\n",
       " 'VA',\n",
       " 'KY',\n",
       " 'SD',\n",
       " 'MS',\n",
       " 'SC',\n",
       " 'NE',\n",
       " 'DE',\n",
       " 'FL',\n",
       " 'WV',\n",
       " 'NV',\n",
       " 'NC',\n",
       " 'LA',\n",
       " 'KS',\n",
       " 'IN']"
      ]
     },
     "execution_count": 17,
     "metadata": {},
     "output_type": "execute_result"
    }
   ],
   "source": [
    "list(set(state_2))"
   ]
  },
  {
   "cell_type": "code",
   "execution_count": 18,
   "metadata": {},
   "outputs": [
    {
     "data": {
      "text/html": [
       "<div>\n",
       "<style scoped>\n",
       "    .dataframe tbody tr th:only-of-type {\n",
       "        vertical-align: middle;\n",
       "    }\n",
       "\n",
       "    .dataframe tbody tr th {\n",
       "        vertical-align: top;\n",
       "    }\n",
       "\n",
       "    .dataframe thead th {\n",
       "        text-align: right;\n",
       "    }\n",
       "</style>\n",
       "<table border=\"1\" class=\"dataframe\">\n",
       "  <thead>\n",
       "    <tr style=\"text-align: right;\">\n",
       "      <th></th>\n",
       "      <th>project id</th>\n",
       "      <th>name</th>\n",
       "      <th>url</th>\n",
       "      <th>category</th>\n",
       "      <th>subcategory</th>\n",
       "      <th>location</th>\n",
       "      <th>status</th>\n",
       "      <th>goal</th>\n",
       "      <th>pledged</th>\n",
       "      <th>funded percentage</th>\n",
       "      <th>...</th>\n",
       "      <th>funded date</th>\n",
       "      <th>levels</th>\n",
       "      <th>reward levels</th>\n",
       "      <th>updates</th>\n",
       "      <th>comments</th>\n",
       "      <th>duration</th>\n",
       "      <th>funded month</th>\n",
       "      <th>funded dow</th>\n",
       "      <th>funded hour</th>\n",
       "      <th>success_fail</th>\n",
       "    </tr>\n",
       "  </thead>\n",
       "  <tbody>\n",
       "    <tr>\n",
       "      <td>1775</td>\n",
       "      <td>82500894</td>\n",
       "      <td>AIRPORT MURAL - a Caribbean Collaboration</td>\n",
       "      <td>http://www.kickstarter.com/projects/415884770/...</td>\n",
       "      <td>Art</td>\n",
       "      <td>Public Art</td>\n",
       "      <td>St Croix, Virgin Islands, U.S.</td>\n",
       "      <td>successful</td>\n",
       "      <td>3300.0</td>\n",
       "      <td>4040.0</td>\n",
       "      <td>1.224242</td>\n",
       "      <td>...</td>\n",
       "      <td>2012-05-26 00:20:05+00:00</td>\n",
       "      <td>7</td>\n",
       "      <td>$2,$10,$25,$50,$100,$500,$1,500</td>\n",
       "      <td>6</td>\n",
       "      <td>1</td>\n",
       "      <td>30.0</td>\n",
       "      <td>5</td>\n",
       "      <td>5</td>\n",
       "      <td>0</td>\n",
       "      <td>1</td>\n",
       "    </tr>\n",
       "    <tr>\n",
       "      <td>31344</td>\n",
       "      <td>1475984188</td>\n",
       "      <td>Under St John</td>\n",
       "      <td>http://www.kickstarter.com/projects/1057085989...</td>\n",
       "      <td>Film &amp; Video</td>\n",
       "      <td>Documentary</td>\n",
       "      <td>Cruz Bay, Virgin Islands, U.S.</td>\n",
       "      <td>failed</td>\n",
       "      <td>30000.0</td>\n",
       "      <td>325.0</td>\n",
       "      <td>0.010833</td>\n",
       "      <td>...</td>\n",
       "      <td>2012-02-25 18:32:25+00:00</td>\n",
       "      <td>4</td>\n",
       "      <td>$25,$50,$100,$2,000</td>\n",
       "      <td>0</td>\n",
       "      <td>0</td>\n",
       "      <td>45.0</td>\n",
       "      <td>2</td>\n",
       "      <td>5</td>\n",
       "      <td>18</td>\n",
       "      <td>0</td>\n",
       "    </tr>\n",
       "  </tbody>\n",
       "</table>\n",
       "<p>2 rows × 21 columns</p>\n",
       "</div>"
      ],
      "text/plain": [
       "       project id                                       name  \\\n",
       "1775     82500894  AIRPORT MURAL - a Caribbean Collaboration   \n",
       "31344  1475984188                              Under St John   \n",
       "\n",
       "                                                     url      category  \\\n",
       "1775   http://www.kickstarter.com/projects/415884770/...           Art   \n",
       "31344  http://www.kickstarter.com/projects/1057085989...  Film & Video   \n",
       "\n",
       "       subcategory                        location      status     goal  \\\n",
       "1775    Public Art  St Croix, Virgin Islands, U.S.  successful   3300.0   \n",
       "31344  Documentary  Cruz Bay, Virgin Islands, U.S.      failed  30000.0   \n",
       "\n",
       "       pledged  funded percentage  ...               funded date levels  \\\n",
       "1775    4040.0           1.224242  ... 2012-05-26 00:20:05+00:00      7   \n",
       "31344    325.0           0.010833  ... 2012-02-25 18:32:25+00:00      4   \n",
       "\n",
       "                         reward levels updates  comments  duration  \\\n",
       "1775   $2,$10,$25,$50,$100,$500,$1,500       6         1      30.0   \n",
       "31344              $25,$50,$100,$2,000       0         0      45.0   \n",
       "\n",
       "       funded month  funded dow  funded hour  success_fail  \n",
       "1775              5           5            0             1  \n",
       "31344             2           5           18             0  \n",
       "\n",
       "[2 rows x 21 columns]"
      ]
     },
     "execution_count": 18,
     "metadata": {},
     "output_type": "execute_result"
    }
   ],
   "source": [
    "#Check which location is giving \"S.\" as a result\n",
    "df[df[\"location\"].str.slice(start=-2)==\"S.\"]"
   ]
  },
  {
   "cell_type": "code",
   "execution_count": 19,
   "metadata": {},
   "outputs": [],
   "source": [
    "for i in range(len(state_2)):\n",
    "    if state_2[i]==\"S.\":\n",
    "        state_2[i]=\"US Virgin Is.\""
   ]
  },
  {
   "cell_type": "code",
   "execution_count": 20,
   "metadata": {},
   "outputs": [
    {
     "data": {
      "text/html": [
       "<div>\n",
       "<style scoped>\n",
       "    .dataframe tbody tr th:only-of-type {\n",
       "        vertical-align: middle;\n",
       "    }\n",
       "\n",
       "    .dataframe tbody tr th {\n",
       "        vertical-align: top;\n",
       "    }\n",
       "\n",
       "    .dataframe thead th {\n",
       "        text-align: right;\n",
       "    }\n",
       "</style>\n",
       "<table border=\"1\" class=\"dataframe\">\n",
       "  <thead>\n",
       "    <tr style=\"text-align: right;\">\n",
       "      <th></th>\n",
       "      <th>project id</th>\n",
       "      <th>name</th>\n",
       "      <th>url</th>\n",
       "      <th>category</th>\n",
       "      <th>subcategory</th>\n",
       "      <th>location</th>\n",
       "      <th>status</th>\n",
       "      <th>goal</th>\n",
       "      <th>pledged</th>\n",
       "      <th>funded percentage</th>\n",
       "      <th>...</th>\n",
       "      <th>levels</th>\n",
       "      <th>reward levels</th>\n",
       "      <th>updates</th>\n",
       "      <th>comments</th>\n",
       "      <th>duration</th>\n",
       "      <th>funded month</th>\n",
       "      <th>funded dow</th>\n",
       "      <th>funded hour</th>\n",
       "      <th>success_fail</th>\n",
       "      <th>loc category</th>\n",
       "    </tr>\n",
       "  </thead>\n",
       "  <tbody>\n",
       "    <tr>\n",
       "      <td>0</td>\n",
       "      <td>39409</td>\n",
       "      <td>WHILE THE TREES SLEEP</td>\n",
       "      <td>http://www.kickstarter.com/projects/emiliesaba...</td>\n",
       "      <td>Film &amp; Video</td>\n",
       "      <td>Short Film</td>\n",
       "      <td>Columbia, MO</td>\n",
       "      <td>successful</td>\n",
       "      <td>10500.0</td>\n",
       "      <td>11545.0</td>\n",
       "      <td>1.099524</td>\n",
       "      <td>...</td>\n",
       "      <td>7</td>\n",
       "      <td>$25,$50,$100,$250,$500,$1,000,$2,500</td>\n",
       "      <td>10</td>\n",
       "      <td>2</td>\n",
       "      <td>30.00</td>\n",
       "      <td>8</td>\n",
       "      <td>4</td>\n",
       "      <td>19</td>\n",
       "      <td>1</td>\n",
       "      <td>MO</td>\n",
       "    </tr>\n",
       "    <tr>\n",
       "      <td>1</td>\n",
       "      <td>126581</td>\n",
       "      <td>Educational Online Trading Card Game</td>\n",
       "      <td>http://www.kickstarter.com/projects/972789543/...</td>\n",
       "      <td>Games</td>\n",
       "      <td>Board &amp; Card Games</td>\n",
       "      <td>Maplewood, NJ</td>\n",
       "      <td>failed</td>\n",
       "      <td>4000.0</td>\n",
       "      <td>20.0</td>\n",
       "      <td>0.005000</td>\n",
       "      <td>...</td>\n",
       "      <td>5</td>\n",
       "      <td>$1,$5,$10,$25,$50</td>\n",
       "      <td>6</td>\n",
       "      <td>0</td>\n",
       "      <td>47.18</td>\n",
       "      <td>8</td>\n",
       "      <td>0</td>\n",
       "      <td>3</td>\n",
       "      <td>0</td>\n",
       "      <td>NJ</td>\n",
       "    </tr>\n",
       "    <tr>\n",
       "      <td>2</td>\n",
       "      <td>138119</td>\n",
       "      <td>STRUM</td>\n",
       "      <td>http://www.kickstarter.com/projects/185476022/...</td>\n",
       "      <td>Film &amp; Video</td>\n",
       "      <td>Animation</td>\n",
       "      <td>Los Angeles, CA</td>\n",
       "      <td>live</td>\n",
       "      <td>20000.0</td>\n",
       "      <td>56.0</td>\n",
       "      <td>0.002800</td>\n",
       "      <td>...</td>\n",
       "      <td>10</td>\n",
       "      <td>$1,$10,$25,$40,$50,$100,$250,$1,000,$1,337,$9,001</td>\n",
       "      <td>1</td>\n",
       "      <td>0</td>\n",
       "      <td>28.00</td>\n",
       "      <td>6</td>\n",
       "      <td>4</td>\n",
       "      <td>0</td>\n",
       "      <td>0</td>\n",
       "      <td>CA</td>\n",
       "    </tr>\n",
       "    <tr>\n",
       "      <td>3</td>\n",
       "      <td>237090</td>\n",
       "      <td>GETTING OVER - One son's search to finally kno...</td>\n",
       "      <td>http://www.kickstarter.com/projects/charnick/g...</td>\n",
       "      <td>Film &amp; Video</td>\n",
       "      <td>Documentary</td>\n",
       "      <td>Los Angeles, CA</td>\n",
       "      <td>successful</td>\n",
       "      <td>6000.0</td>\n",
       "      <td>6535.0</td>\n",
       "      <td>1.089167</td>\n",
       "      <td>...</td>\n",
       "      <td>13</td>\n",
       "      <td>$1,$10,$25,$30,$50,$75,$85,$100,$110,$250,$500...</td>\n",
       "      <td>4</td>\n",
       "      <td>0</td>\n",
       "      <td>32.22</td>\n",
       "      <td>4</td>\n",
       "      <td>6</td>\n",
       "      <td>2</td>\n",
       "      <td>1</td>\n",
       "      <td>CA</td>\n",
       "    </tr>\n",
       "    <tr>\n",
       "      <td>4</td>\n",
       "      <td>246101</td>\n",
       "      <td>The Launch of FlyeGrlRoyalty &amp;quot;The New Nam...</td>\n",
       "      <td>http://www.kickstarter.com/projects/flyegrlroy...</td>\n",
       "      <td>Fashion</td>\n",
       "      <td>Fashion</td>\n",
       "      <td>Novi, MI</td>\n",
       "      <td>failed</td>\n",
       "      <td>3500.0</td>\n",
       "      <td>0.0</td>\n",
       "      <td>0.000000</td>\n",
       "      <td>...</td>\n",
       "      <td>6</td>\n",
       "      <td>$10,$25,$50,$100,$150,$250</td>\n",
       "      <td>2</td>\n",
       "      <td>0</td>\n",
       "      <td>30.00</td>\n",
       "      <td>6</td>\n",
       "      <td>2</td>\n",
       "      <td>15</td>\n",
       "      <td>0</td>\n",
       "      <td>MI</td>\n",
       "    </tr>\n",
       "  </tbody>\n",
       "</table>\n",
       "<p>5 rows × 22 columns</p>\n",
       "</div>"
      ],
      "text/plain": [
       "   project id                                               name  \\\n",
       "0       39409                              WHILE THE TREES SLEEP   \n",
       "1      126581               Educational Online Trading Card Game   \n",
       "2      138119                                              STRUM   \n",
       "3      237090  GETTING OVER - One son's search to finally kno...   \n",
       "4      246101  The Launch of FlyeGrlRoyalty &quot;The New Nam...   \n",
       "\n",
       "                                                 url      category  \\\n",
       "0  http://www.kickstarter.com/projects/emiliesaba...  Film & Video   \n",
       "1  http://www.kickstarter.com/projects/972789543/...         Games   \n",
       "2  http://www.kickstarter.com/projects/185476022/...  Film & Video   \n",
       "3  http://www.kickstarter.com/projects/charnick/g...  Film & Video   \n",
       "4  http://www.kickstarter.com/projects/flyegrlroy...       Fashion   \n",
       "\n",
       "          subcategory         location      status     goal  pledged  \\\n",
       "0          Short Film     Columbia, MO  successful  10500.0  11545.0   \n",
       "1  Board & Card Games    Maplewood, NJ      failed   4000.0     20.0   \n",
       "2           Animation  Los Angeles, CA        live  20000.0     56.0   \n",
       "3         Documentary  Los Angeles, CA  successful   6000.0   6535.0   \n",
       "4             Fashion         Novi, MI      failed   3500.0      0.0   \n",
       "\n",
       "   funded percentage  ...  levels  \\\n",
       "0           1.099524  ...       7   \n",
       "1           0.005000  ...       5   \n",
       "2           0.002800  ...      10   \n",
       "3           1.089167  ...      13   \n",
       "4           0.000000  ...       6   \n",
       "\n",
       "                                       reward levels  updates comments  \\\n",
       "0               $25,$50,$100,$250,$500,$1,000,$2,500       10        2   \n",
       "1                                  $1,$5,$10,$25,$50        6        0   \n",
       "2  $1,$10,$25,$40,$50,$100,$250,$1,000,$1,337,$9,001        1        0   \n",
       "3  $1,$10,$25,$30,$50,$75,$85,$100,$110,$250,$500...        4        0   \n",
       "4                         $10,$25,$50,$100,$150,$250        2        0   \n",
       "\n",
       "   duration  funded month  funded dow  funded hour  success_fail  loc category  \n",
       "0     30.00             8           4           19             1            MO  \n",
       "1     47.18             8           0            3             0            NJ  \n",
       "2     28.00             6           4            0             0            CA  \n",
       "3     32.22             4           6            2             1            CA  \n",
       "4     30.00             6           2           15             0            MI  \n",
       "\n",
       "[5 rows x 22 columns]"
      ]
     },
     "execution_count": 20,
     "metadata": {},
     "output_type": "execute_result"
    }
   ],
   "source": [
    "df[\"loc category\"]=state_2\n",
    "df.head()"
   ]
  },
  {
   "cell_type": "markdown",
   "metadata": {},
   "source": [
    "### Analysis & Visualisation"
   ]
  },
  {
   "cell_type": "code",
   "execution_count": 21,
   "metadata": {},
   "outputs": [
    {
     "data": {
      "image/png": "[encoded data removed]",
      "text/plain": [
       "<Figure size 432x288 with 1 Axes>"
      ]
     },
     "metadata": {
      "needs_background": "light"
     },
     "output_type": "display_data"
    }
   ],
   "source": [
    "#Summary statistics for number of successful vs unsuccessful projects\n",
    "sns.countplot(df[\"status\"])\n",
    "plt.show()"
   ]
  },
  {
   "cell_type": "code",
   "execution_count": 22,
   "metadata": {},
   "outputs": [],
   "source": [
    "#Create masks based on project status for use in later analyses\n",
    "\n",
    "not_live=df[\"status\"]!=\"live\"\n",
    "failed=df[\"status\"]==\"failed\"\n",
    "successful=df[\"status\"]==\"successful\""
   ]
  },
  {
   "cell_type": "markdown",
   "metadata": {},
   "source": [
    "#### Numerical features"
   ]
  },
  {
   "cell_type": "code",
   "execution_count": 23,
   "metadata": {
    "hideCode": false,
    "hidePrompt": true
   },
   "outputs": [
    {
     "data": {
      "text/html": [
       "<div>\n",
       "<style scoped>\n",
       "    .dataframe tbody tr th:only-of-type {\n",
       "        vertical-align: middle;\n",
       "    }\n",
       "\n",
       "    .dataframe tbody tr th {\n",
       "        vertical-align: top;\n",
       "    }\n",
       "\n",
       "    .dataframe thead th {\n",
       "        text-align: right;\n",
       "    }\n",
       "</style>\n",
       "<table border=\"1\" class=\"dataframe\">\n",
       "  <thead>\n",
       "    <tr style=\"text-align: right;\">\n",
       "      <th></th>\n",
       "      <th>project id</th>\n",
       "      <th>goal</th>\n",
       "      <th>pledged</th>\n",
       "      <th>funded percentage</th>\n",
       "      <th>backers</th>\n",
       "      <th>levels</th>\n",
       "      <th>updates</th>\n",
       "      <th>comments</th>\n",
       "      <th>duration</th>\n",
       "      <th>funded month</th>\n",
       "      <th>funded dow</th>\n",
       "      <th>funded hour</th>\n",
       "      <th>success_fail</th>\n",
       "    </tr>\n",
       "  </thead>\n",
       "  <tbody>\n",
       "    <tr>\n",
       "      <td>count</td>\n",
       "      <td>1.896100e+04</td>\n",
       "      <td>1.896100e+04</td>\n",
       "      <td>18961.000000</td>\n",
       "      <td>18961.000000</td>\n",
       "      <td>18961.000000</td>\n",
       "      <td>18961.000000</td>\n",
       "      <td>18961.000000</td>\n",
       "      <td>18961.000000</td>\n",
       "      <td>18961.000000</td>\n",
       "      <td>18961.000000</td>\n",
       "      <td>18961.000000</td>\n",
       "      <td>18961.000000</td>\n",
       "      <td>18961.0</td>\n",
       "    </tr>\n",
       "    <tr>\n",
       "      <td>mean</td>\n",
       "      <td>1.079523e+09</td>\n",
       "      <td>1.636785e+04</td>\n",
       "      <td>897.256738</td>\n",
       "      <td>0.104855</td>\n",
       "      <td>12.569485</td>\n",
       "      <td>7.288276</td>\n",
       "      <td>1.496018</td>\n",
       "      <td>0.963346</td>\n",
       "      <td>42.975210</td>\n",
       "      <td>6.104425</td>\n",
       "      <td>3.115764</td>\n",
       "      <td>11.750382</td>\n",
       "      <td>0.0</td>\n",
       "    </tr>\n",
       "    <tr>\n",
       "      <td>std</td>\n",
       "      <td>6.215744e+08</td>\n",
       "      <td>2.193439e+05</td>\n",
       "      <td>2842.363261</td>\n",
       "      <td>0.150177</td>\n",
       "      <td>27.152465</td>\n",
       "      <td>3.740560</td>\n",
       "      <td>3.237211</td>\n",
       "      <td>4.890249</td>\n",
       "      <td>18.700137</td>\n",
       "      <td>3.339408</td>\n",
       "      <td>2.012132</td>\n",
       "      <td>7.888268</td>\n",
       "      <td>0.0</td>\n",
       "    </tr>\n",
       "    <tr>\n",
       "      <td>min</td>\n",
       "      <td>1.265810e+05</td>\n",
       "      <td>5.000000e-01</td>\n",
       "      <td>0.000000</td>\n",
       "      <td>0.000000</td>\n",
       "      <td>0.000000</td>\n",
       "      <td>0.000000</td>\n",
       "      <td>0.000000</td>\n",
       "      <td>0.000000</td>\n",
       "      <td>1.000000</td>\n",
       "      <td>1.000000</td>\n",
       "      <td>0.000000</td>\n",
       "      <td>0.000000</td>\n",
       "      <td>0.0</td>\n",
       "    </tr>\n",
       "    <tr>\n",
       "      <td>25%</td>\n",
       "      <td>5.423241e+08</td>\n",
       "      <td>2.500000e+03</td>\n",
       "      <td>20.000000</td>\n",
       "      <td>0.002857</td>\n",
       "      <td>1.000000</td>\n",
       "      <td>5.000000</td>\n",
       "      <td>0.000000</td>\n",
       "      <td>0.000000</td>\n",
       "      <td>30.000000</td>\n",
       "      <td>3.000000</td>\n",
       "      <td>1.000000</td>\n",
       "      <td>4.000000</td>\n",
       "      <td>0.0</td>\n",
       "    </tr>\n",
       "    <tr>\n",
       "      <td>50%</td>\n",
       "      <td>1.070972e+09</td>\n",
       "      <td>5.000000e+03</td>\n",
       "      <td>170.000000</td>\n",
       "      <td>0.037333</td>\n",
       "      <td>4.000000</td>\n",
       "      <td>7.000000</td>\n",
       "      <td>0.000000</td>\n",
       "      <td>0.000000</td>\n",
       "      <td>36.000000</td>\n",
       "      <td>5.000000</td>\n",
       "      <td>3.000000</td>\n",
       "      <td>14.000000</td>\n",
       "      <td>0.0</td>\n",
       "    </tr>\n",
       "    <tr>\n",
       "      <td>75%</td>\n",
       "      <td>1.622762e+09</td>\n",
       "      <td>1.200000e+04</td>\n",
       "      <td>740.000000</td>\n",
       "      <td>0.148571</td>\n",
       "      <td>14.000000</td>\n",
       "      <td>9.000000</td>\n",
       "      <td>2.000000</td>\n",
       "      <td>1.000000</td>\n",
       "      <td>59.880000</td>\n",
       "      <td>9.000000</td>\n",
       "      <td>5.000000</td>\n",
       "      <td>19.000000</td>\n",
       "      <td>0.0</td>\n",
       "    </tr>\n",
       "    <tr>\n",
       "      <td>max</td>\n",
       "      <td>2.147370e+09</td>\n",
       "      <td>2.147484e+07</td>\n",
       "      <td>112287.000000</td>\n",
       "      <td>1.079700</td>\n",
       "      <td>882.000000</td>\n",
       "      <td>70.000000</td>\n",
       "      <td>83.000000</td>\n",
       "      <td>442.000000</td>\n",
       "      <td>91.960000</td>\n",
       "      <td>12.000000</td>\n",
       "      <td>6.000000</td>\n",
       "      <td>23.000000</td>\n",
       "      <td>0.0</td>\n",
       "    </tr>\n",
       "  </tbody>\n",
       "</table>\n",
       "</div>"
      ],
      "text/plain": [
       "         project id          goal        pledged  funded percentage  \\\n",
       "count  1.896100e+04  1.896100e+04   18961.000000       18961.000000   \n",
       "mean   1.079523e+09  1.636785e+04     897.256738           0.104855   \n",
       "std    6.215744e+08  2.193439e+05    2842.363261           0.150177   \n",
       "min    1.265810e+05  5.000000e-01       0.000000           0.000000   \n",
       "25%    5.423241e+08  2.500000e+03      20.000000           0.002857   \n",
       "50%    1.070972e+09  5.000000e+03     170.000000           0.037333   \n",
       "75%    1.622762e+09  1.200000e+04     740.000000           0.148571   \n",
       "max    2.147370e+09  2.147484e+07  112287.000000           1.079700   \n",
       "\n",
       "            backers        levels       updates      comments      duration  \\\n",
       "count  18961.000000  18961.000000  18961.000000  18961.000000  18961.000000   \n",
       "mean      12.569485      7.288276      1.496018      0.963346     42.975210   \n",
       "std       27.152465      3.740560      3.237211      4.890249     18.700137   \n",
       "min        0.000000      0.000000      0.000000      0.000000      1.000000   \n",
       "25%        1.000000      5.000000      0.000000      0.000000     30.000000   \n",
       "50%        4.000000      7.000000      0.000000      0.000000     36.000000   \n",
       "75%       14.000000      9.000000      2.000000      1.000000     59.880000   \n",
       "max      882.000000     70.000000     83.000000    442.000000     91.960000   \n",
       "\n",
       "       funded month    funded dow   funded hour  success_fail  \n",
       "count  18961.000000  18961.000000  18961.000000       18961.0  \n",
       "mean       6.104425      3.115764     11.750382           0.0  \n",
       "std        3.339408      2.012132      7.888268           0.0  \n",
       "min        1.000000      0.000000      0.000000           0.0  \n",
       "25%        3.000000      1.000000      4.000000           0.0  \n",
       "50%        5.000000      3.000000     14.000000           0.0  \n",
       "75%        9.000000      5.000000     19.000000           0.0  \n",
       "max       12.000000      6.000000     23.000000           0.0  "
      ]
     },
     "execution_count": 23,
     "metadata": {},
     "output_type": "execute_result"
    }
   ],
   "source": [
    "#Check key statistical characteristics of numerical features\n",
    "df[df[\"status\"]==\"failed\"].describe()"
   ]
  },
  {
   "cell_type": "markdown",
   "metadata": {},
   "source": [
    "We see note that:\n",
    "- the **mean pledged amount is 4,983.02**\n",
    "- Several features, (e.g. goal, pledged, backers) show very wide spread, i.e. gaps between mean, q75 and max)"
   ]
  },
  {
   "cell_type": "markdown",
   "metadata": {},
   "source": [
    "Next step is to build **histograms for the numerical features** to get a better understanding of their distribution"
   ]
  },
  {
   "cell_type": "code",
   "execution_count": 24,
   "metadata": {
    "hideCode": false,
    "hidePrompt": true
   },
   "outputs": [
    {
     "data": {
      "image/png": "[encoded data removed]",
      "text/plain": [
       "<Figure size 1152x576 with 8 Axes>"
      ]
     },
     "metadata": {
      "needs_background": "light"
     },
     "output_type": "display_data"
    }
   ],
   "source": [
    "#Define list of numerical features\n",
    "t=[\"goal\",\"pledged\",\"funded percentage\",\"backers\",\"levels\",\"updates\",\"comments\",\"duration\"]\n",
    "\n",
    "#Define grid of subplots\n",
    "fig, ax = plt.subplots(2,4, figsize=(16, 8))\n",
    "plt.subplots_adjust(hspace=0.5, wspace=0.4)\n",
    "plt.suptitle(\"Distribution of numerical variables\")\n",
    "\n",
    "#Define individual subplots\n",
    "for i in range(len(t)):\n",
    "    plt.subplot(2,4,i+1)\n",
    "    a=t[i]\n",
    "    plt.hist(df[a],bins=30, log=True) #last argument enables to better visualise for features with large spread.\n",
    "    plt.title(a)\n",
    "    \n",
    "plt.show()"
   ]
  },
  {
   "cell_type": "code",
   "execution_count": 25,
   "metadata": {},
   "outputs": [
    {
     "data": {
      "image/png": "[encoded data removed]",
      "text/plain": [
       "<Figure size 432x288 with 1 Axes>"
      ]
     },
     "metadata": {
      "needs_background": "light"
     },
     "output_type": "display_data"
    }
   ],
   "source": [
    "#Zoom into Duration with a kde plot\n",
    "\n",
    "bw=10\n",
    "\n",
    "sns.kdeplot(df[\"duration\"][not_live][df[\"success_fail\"]==0], shade=True, label='Fail', bw=bw)\n",
    "sns.kdeplot(df[\"duration\"][not_live][df[\"success_fail\"]==1], shade=True, label='Success', bw=bw)\n",
    "plt.title(\"Frequency density estimate for Duration\")\n",
    "    \n",
    "plt.show()"
   ]
  },
  {
   "cell_type": "markdown",
   "metadata": {},
   "source": [
    "We see **positive skew in all features**"
   ]
  },
  {
   "cell_type": "markdown",
   "metadata": {},
   "source": [
    "Next we would like to investigate **correlation between numerical features and the pledged amount**.\n",
    "\n",
    "We begin with scatter plots."
   ]
  },
  {
   "cell_type": "code",
   "execution_count": 26,
   "metadata": {
    "hideCode": false,
    "hidePrompt": true
   },
   "outputs": [
    {
     "data": {
      "image/png": "[encoded data removed]",
      "text/plain": [
       "<Figure size 1152x576 with 8 Axes>"
      ]
     },
     "metadata": {
      "needs_background": "light"
     },
     "output_type": "display_data"
    }
   ],
   "source": [
    "#Define grid of subplots\n",
    "fig, ax = plt.subplots(2,4, figsize=(16, 8))\n",
    "plt.suptitle(\"Numerical variables vs Funded percentage\")\n",
    "plt.subplots_adjust(hspace=0.4, wspace=0.4)\n",
    "\n",
    "\n",
    "#Define individual subplots\n",
    "for i in range(len(t)):\n",
    "    plt.subplot(2,4,i+1)\n",
    "    a=t[i]\n",
    "    plt.plot(df[a][not_live], df[\"funded percentage\"][not_live], \".\")\n",
    "    plt.yscale(\"log\")\n",
    "    if df[a].max()/np.percentile(df[a], 99)>10:\n",
    "        plt.xscale(\"log\")\n",
    "    plt.hlines(y = 1, xmin = 0.9*df[a][not_live].min(), xmax = 1.1*df[a][not_live].max(), color = \"red\")\n",
    "    plt.xlabel(a)\n",
    "    plt.ylabel(\"funded percentage\")\n",
    "\n",
    "plt.show()"
   ]
  },
  {
   "cell_type": "markdown",
   "metadata": {},
   "source": [
    "We see a significant correlation with backers and comments, and less strong correlation with goal, levels, updates and duration. \n",
    "\n",
    "To see the correlations more explicitly, we build a **heatmap of the correlation factors**."
   ]
  },
  {
   "cell_type": "code",
   "execution_count": 27,
   "metadata": {
    "hideCode": false,
    "hidePrompt": true
   },
   "outputs": [
    {
     "data": {
      "image/png": "[encoded data removed]",
      "text/plain": [
       "<Figure size 576x432 with 2 Axes>"
      ]
     },
     "metadata": {
      "needs_background": "light"
     },
     "output_type": "display_data"
    }
   ],
   "source": [
    "#Compute correlation factors\n",
    "corrmat=df[t][not_live].corr()\n",
    "\n",
    "#define colour map\n",
    "c_map=sns.diverging_palette(1,240, n=10)\n",
    "\n",
    "f,ax = plt.subplots(figsize=(8,6))\n",
    "\n",
    "#define masked area of heatmap\n",
    "#mask = np.zeros_like(corrmat) # returns numpy array identical in shape to corrmat, filled with zeros\n",
    "#mask[np.triu_indices_from(mask)] = True # takes mask and changes the triangle above the diagonal to 1\n",
    "\n",
    "#plot heatmap, applying the mask, reversing the order of rows and columns for display purposes\n",
    "with sns.axes_style(\"white\"):\n",
    "    ax = sns.heatmap(corrmat[corrmat.columns[::-1]].iloc[::-1], center = 0, linewidths=.5,cmap=c_map)"
   ]
  },
  {
   "cell_type": "markdown",
   "metadata": {},
   "source": [
    "#### Categorical features"
   ]
  },
  {
   "cell_type": "markdown",
   "metadata": {},
   "source": [
    "We will examine how the following categorical features influence the pledged amount:\n",
    "\n",
    "- Month, Day of week, Hour \n",
    "- Category & sub-category\n",
    "- Location\n",
    "\n",
    "To do this, we will use quantiles, specifically the median, to avoid undue influence of outliers"
   ]
  },
  {
   "cell_type": "markdown",
   "metadata": {},
   "source": [
    "**Month, Day of week, Hour**"
   ]
  },
  {
   "cell_type": "code",
   "execution_count": 28,
   "metadata": {},
   "outputs": [
    {
     "data": {
      "image/png": "[encoded data removed]",
      "text/plain": [
       "<Figure size 576x1152 with 3 Axes>"
      ]
     },
     "metadata": {
      "needs_background": "light"
     },
     "output_type": "display_data"
    }
   ],
   "source": [
    "#Create boxplots\n",
    "\n",
    "stamps=[\"funded month\", \"funded dow\", \"funded hour\"]\n",
    "\n",
    "fig, ax = plt.subplots(3,1, figsize=(8,16))\n",
    "plt.subplots_adjust(hspace=0.4, wspace=0.2)\n",
    "\n",
    "for i in range(3):\n",
    "    plt.subplot(3,1,i+1)\n",
    "    sns.boxplot(x=stamps[i], y=\"funded percentage\", data=df[not_live], color=\"steelblue\",showfliers = False)\n",
    "    #plt.yscale(\"log\")\n",
    "plt.show()"
   ]
  },
  {
   "cell_type": "code",
   "execution_count": 29,
   "metadata": {},
   "outputs": [
    {
     "data": {
      "image/png": "[encoded data removed]",
      "text/plain": [
       "<Figure size 1152x216 with 3 Axes>"
      ]
     },
     "metadata": {
      "needs_background": "light"
     },
     "output_type": "display_data"
    }
   ],
   "source": [
    "#Create plots of probability of success by launch timing (NOTE: only for non-live projects)\n",
    "\n",
    "fig=plt.subplots(1,3, figsize=(16,3))\n",
    "plt.suptitle(\"Probability of success by Launch Timing\")\n",
    "\n",
    "heights=[]\n",
    "x=[]\n",
    "for i in range(len(set(df[\"funded month\"]))):\n",
    "    x.append(str(list(set(df[\"funded month\"]))[i]))\n",
    "    heights.append(df[\"success_fail\"][not_live][df[\"funded month\"]==list(set(df[\"funded month\"]))[i]].mean())\n",
    "    month_success=pd.DataFrame({\"Funded month\": x, \"Success probability\": heights})\n",
    "\n",
    "plt.subplot(1,3,1)\n",
    "plt.bar(x=month_success[\"Funded month\"], height=month_success[\"Success probability\"])\n",
    "#plt.xticks(rotation=90)\n",
    "plt.xlabel(\"Month\")\n",
    "\n",
    "\n",
    "heights=[]\n",
    "x=[]\n",
    "for i in range(len(set(df[\"funded dow\"]))):\n",
    "    x.append(str(list(set(df[\"funded dow\"]))[i]))\n",
    "    heights.append(df[\"success_fail\"][not_live][df[\"funded dow\"]==list(set(df[\"funded dow\"]))[i]].mean())\n",
    "    dow_success=pd.DataFrame({\"Funded dow\": x, \"Success probability\": heights})\n",
    "\n",
    "plt.subplot(1,3,2)\n",
    "plt.bar(x=dow_success[\"Funded dow\"], height=dow_success[\"Success probability\"])\n",
    "#plt.xticks(rotation=90)\n",
    "plt.xlabel(\"Day of week\")\n",
    "\n",
    "\n",
    "heights=[]\n",
    "x=[]\n",
    "for i in range(len(set(df[\"funded hour\"]))):\n",
    "    x.append(str(list(set(df[\"funded hour\"]))[i]))\n",
    "    heights.append(df[\"success_fail\"][not_live][df[\"funded hour\"]==list(set(df[\"funded hour\"]))[i]].mean())\n",
    "    hour_success=pd.DataFrame({\"Funded hour\": x, \"Success probability\": heights})\n",
    "\n",
    "plt.subplot(1,3,3)\n",
    "plt.bar(x=hour_success[\"Funded hour\"], height=hour_success[\"Success probability\"])\n",
    "plt.xticks(rotation=90)\n",
    "plt.xlabel(\"Hour\")\n",
    "\n",
    "plt.show()\n"
   ]
  },
  {
   "cell_type": "markdown",
   "metadata": {},
   "source": [
    "**Category & Subcategory**"
   ]
  },
  {
   "cell_type": "code",
   "execution_count": 30,
   "metadata": {
    "scrolled": false
   },
   "outputs": [
    {
     "data": {
      "image/png": "[encoded data removed]",
      "text/plain": [
       "<Figure size 1152x1440 with 15 Axes>"
      ]
     },
     "metadata": {
      "needs_background": "light"
     },
     "output_type": "display_data"
    }
   ],
   "source": [
    "#Create plots of probability of success by Category (NOTE: only for non-live projects)\n",
    "\n",
    "fig, ax = plt.subplots(5,3, figsize=(16,20))\n",
    "plt.subplots_adjust(hspace=1.5, wspace=0.2)\n",
    "\n",
    "order=list(df.groupby(df[\"category\"]).count().sort_values(by=\"project id\", ascending=False).index)\n",
    "\n",
    "plt.subplot(5,3,1)\n",
    "sns.countplot(df[\"category\"], color=\"steelblue\", order=order)\n",
    "plt.title(\"Count by Category\")\n",
    "plt.xticks(rotation=90)\n",
    "\n",
    "heights=[]\n",
    "x=[]\n",
    "for i in range(len(order)):\n",
    "    x.append(order[i])\n",
    "    heights.append(df[\"success_fail\"][not_live][df[\"category\"]==order[i]].mean())\n",
    "    cat_means=pd.DataFrame({\"Category\": x, \"Success likelihood\": heights})\n",
    "plt.subplot(5,3,2)\n",
    "plt.bar(x=cat_means[\"Category\"], height=cat_means[\"Success likelihood\"])\n",
    "plt.xticks(rotation=90)\n",
    "plt.title(\"Category PoS\")\n",
    "\n",
    "\n",
    "for c in order:\n",
    "    x_s=[]\n",
    "    heights_s=[]\n",
    "    plt.subplot(5,3,order.index(c)+3)\n",
    "    plt.xticks(rotation=90)\n",
    "    plt.title(c+ \" PoS\")\n",
    "    for s in range(len(set(df[\"subcategory\"][df[\"category\"]==c]))):\n",
    "        x_s.append(list(set(df[\"subcategory\"][df[\"category\"]==c]))[s])\n",
    "        heights_s.append(df[\"success_fail\"][not_live][df[\"subcategory\"]==list(set(df[\"subcategory\"][df[\"category\"]==c]))[s]].mean())\n",
    "        zoom_means=pd.DataFrame({\"Subcategory\": x_s, \"Success likelihood\": heights_s}).sort_values(by=\"Success likelihood\")\n",
    "    plt.bar(x=zoom_means[\"Subcategory\"], height=zoom_means[\"Success likelihood\"], color=\"lightblue\")\n",
    "\n",
    "plt.show()"
   ]
  },
  {
   "cell_type": "markdown",
   "metadata": {},
   "source": [
    "**Location**"
   ]
  },
  {
   "cell_type": "code",
   "execution_count": 31,
   "metadata": {},
   "outputs": [
    {
     "data": {
      "image/png": "[encoded data removed]",
      "text/plain": [
       "<Figure size 864x144 with 1 Axes>"
      ]
     },
     "metadata": {
      "needs_background": "light"
     },
     "output_type": "display_data"
    }
   ],
   "source": [
    "#Create plots of probability of success by Location (NOTE: only for non-live projects)\n",
    "\n",
    "heights=[]\n",
    "x=[]\n",
    "\n",
    "fig=plt.subplots(1, figsize=(12,2))\n",
    "\n",
    "for i in range(len(set(df[\"loc category\"]))):\n",
    "    x.append(list(set(df[\"loc category\"]))[i])\n",
    "    heights.append(df[\"success_fail\"][not_live][df[\"loc category\"]==list(set(df[\"loc category\"]))[i]].mean())\n",
    "    loccat_success=pd.DataFrame({\"Loc category\": x, \"Success likelihood\": heights}).sort_values(by=\"Success likelihood\")\n",
    "\n",
    "plt.bar(x=loccat_success[\"Loc category\"], height=loccat_success[\"Success likelihood\"])\n",
    "plt.xticks(rotation=90)\n",
    "plt.title(\"PoS by US state\")\n",
    "plt.show()"
   ]
  },
  {
   "cell_type": "markdown",
   "metadata": {},
   "source": [
    "**Visualising location medians on a map**"
   ]
  },
  {
   "cell_type": "code",
   "execution_count": 32,
   "metadata": {},
   "outputs": [],
   "source": [
    "import folium\n",
    "import geojson as gs\n",
    "import geopandas as gp"
   ]
  },
  {
   "cell_type": "code",
   "execution_count": 33,
   "metadata": {},
   "outputs": [
    {
     "data": {
      "text/html": [
       "<div style=\"width:100%;\"><div style=\"position:relative;width:100%;height:0;padding-bottom:60%;\"><iframe src=\"data:text/html;charset=utf-8;base64,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\" style=\"position:absolute;width:100%;height:100%;left:0;top:0;border:none !important;\" allowfullscreen webkitallowfullscreen mozallowfullscreen></iframe></div></div>"
      ],
      "text/plain": [
       "<folium.folium.Map at 0x7f28fcbb21d0>"
      ]
     },
     "execution_count": 33,
     "metadata": {},
     "output_type": "execute_result"
    }
   ],
   "source": [
    "# create a plain US map\n",
    "us_map = folium.Map(location=[37.0902, -95.7129], zoom_start=4)\n",
    "us_map"
   ]
  },
  {
   "cell_type": "code",
   "execution_count": 34,
   "metadata": {},
   "outputs": [
    {
     "data": {
      "text/html": [
       "<div>\n",
       "<style scoped>\n",
       "    .dataframe tbody tr th:only-of-type {\n",
       "        vertical-align: middle;\n",
       "    }\n",
       "\n",
       "    .dataframe tbody tr th {\n",
       "        vertical-align: top;\n",
       "    }\n",
       "\n",
       "    .dataframe thead th {\n",
       "        text-align: right;\n",
       "    }\n",
       "</style>\n",
       "<table border=\"1\" class=\"dataframe\">\n",
       "  <thead>\n",
       "    <tr style=\"text-align: right;\">\n",
       "      <th></th>\n",
       "      <th>GEO_ID</th>\n",
       "      <th>STATE</th>\n",
       "      <th>NAME</th>\n",
       "      <th>LSAD</th>\n",
       "      <th>CENSUSAREA</th>\n",
       "      <th>geometry</th>\n",
       "    </tr>\n",
       "  </thead>\n",
       "  <tbody>\n",
       "    <tr>\n",
       "      <td>0</td>\n",
       "      <td>0400000US23</td>\n",
       "      <td>23</td>\n",
       "      <td>Maine</td>\n",
       "      <td></td>\n",
       "      <td>30842.923</td>\n",
       "      <td>(POLYGON ((-67.619761 44.519754, -67.61541 44....</td>\n",
       "    </tr>\n",
       "    <tr>\n",
       "      <td>1</td>\n",
       "      <td>0400000US25</td>\n",
       "      <td>25</td>\n",
       "      <td>Massachusetts</td>\n",
       "      <td></td>\n",
       "      <td>7800.058</td>\n",
       "      <td>(POLYGON ((-70.832044 41.606504, -70.823735 41...</td>\n",
       "    </tr>\n",
       "    <tr>\n",
       "      <td>2</td>\n",
       "      <td>0400000US26</td>\n",
       "      <td>26</td>\n",
       "      <td>Michigan</td>\n",
       "      <td></td>\n",
       "      <td>56538.901</td>\n",
       "      <td>(POLYGON ((-88.684434 48.115785, -88.675628 48...</td>\n",
       "    </tr>\n",
       "    <tr>\n",
       "      <td>3</td>\n",
       "      <td>0400000US30</td>\n",
       "      <td>30</td>\n",
       "      <td>Montana</td>\n",
       "      <td></td>\n",
       "      <td>145545.801</td>\n",
       "      <td>POLYGON ((-104.057698 44.997431, -104.250145 4...</td>\n",
       "    </tr>\n",
       "    <tr>\n",
       "      <td>4</td>\n",
       "      <td>0400000US32</td>\n",
       "      <td>32</td>\n",
       "      <td>Nevada</td>\n",
       "      <td></td>\n",
       "      <td>109781.180</td>\n",
       "      <td>POLYGON ((-114.0506 37.000396, -114.049995 36....</td>\n",
       "    </tr>\n",
       "  </tbody>\n",
       "</table>\n",
       "</div>"
      ],
      "text/plain": [
       "        GEO_ID STATE           NAME LSAD  CENSUSAREA  \\\n",
       "0  0400000US23    23          Maine        30842.923   \n",
       "1  0400000US25    25  Massachusetts         7800.058   \n",
       "2  0400000US26    26       Michigan        56538.901   \n",
       "3  0400000US30    30        Montana       145545.801   \n",
       "4  0400000US32    32         Nevada       109781.180   \n",
       "\n",
       "                                            geometry  \n",
       "0  (POLYGON ((-67.619761 44.519754, -67.61541 44....  \n",
       "1  (POLYGON ((-70.832044 41.606504, -70.823735 41...  \n",
       "2  (POLYGON ((-88.684434 48.115785, -88.675628 48...  \n",
       "3  POLYGON ((-104.057698 44.997431, -104.250145 4...  \n",
       "4  POLYGON ((-114.0506 37.000396, -114.049995 36....  "
      ]
     },
     "execution_count": 34,
     "metadata": {},
     "output_type": "execute_result"
    }
   ],
   "source": [
    "#Import geoJSON data for the state geometries (I have used free US census data)\n",
    "url_us=\"https://eric.clst.org/assets/wiki/uploads/Stuff/gz_2010_us_040_00_500k.json\"\n",
    "us_states=gp.read_file(url_us)\n",
    "us_states.head()"
   ]
  },
  {
   "cell_type": "markdown",
   "metadata": {},
   "source": [
    "Ful state names are used in the geoJSON file, whereas the Kickstarter data shows abbreviations only.\n",
    "\n",
    "We will create a quick lookup so that the abbreviations can be added to the geoJSON data"
   ]
  },
  {
   "cell_type": "code",
   "execution_count": 35,
   "metadata": {},
   "outputs": [
    {
     "data": {
      "text/html": [
       "<div>\n",
       "<style scoped>\n",
       "    .dataframe tbody tr th:only-of-type {\n",
       "        vertical-align: middle;\n",
       "    }\n",
       "\n",
       "    .dataframe tbody tr th {\n",
       "        vertical-align: top;\n",
       "    }\n",
       "\n",
       "    .dataframe thead th {\n",
       "        text-align: right;\n",
       "    }\n",
       "</style>\n",
       "<table border=\"1\" class=\"dataframe\">\n",
       "  <thead>\n",
       "    <tr style=\"text-align: right;\">\n",
       "      <th></th>\n",
       "      <th>NAME</th>\n",
       "      <th>Abbreviation</th>\n",
       "    </tr>\n",
       "  </thead>\n",
       "  <tbody>\n",
       "    <tr>\n",
       "      <td>0</td>\n",
       "      <td>Alabama</td>\n",
       "      <td>AL</td>\n",
       "    </tr>\n",
       "    <tr>\n",
       "      <td>1</td>\n",
       "      <td>Alaska</td>\n",
       "      <td>AK</td>\n",
       "    </tr>\n",
       "    <tr>\n",
       "      <td>2</td>\n",
       "      <td>Arizona</td>\n",
       "      <td>AZ</td>\n",
       "    </tr>\n",
       "    <tr>\n",
       "      <td>3</td>\n",
       "      <td>Arkansas</td>\n",
       "      <td>AR</td>\n",
       "    </tr>\n",
       "    <tr>\n",
       "      <td>4</td>\n",
       "      <td>California</td>\n",
       "      <td>CA</td>\n",
       "    </tr>\n",
       "  </tbody>\n",
       "</table>\n",
       "</div>"
      ],
      "text/plain": [
       "         NAME Abbreviation\n",
       "0     Alabama           AL\n",
       "1      Alaska           AK\n",
       "2     Arizona           AZ\n",
       "3    Arkansas           AR\n",
       "4  California           CA"
      ]
     },
     "execution_count": 35,
     "metadata": {},
     "output_type": "execute_result"
    }
   ],
   "source": [
    "#Create lookup table for US state abbreviations\n",
    "lookup_states=pd.DataFrame({\n",
    "    \"NAME\": ['Alabama','Alaska','Arizona','Arkansas','California','Colorado','Connecticut','Delaware','Florida','Georgia','Hawaii','Idaho','Illinois','Indiana','Iowa','Kansas','Kentucky','Louisiana','Maine','Maryland','Massachusetts','Michigan','Minnesota','Mississippi','Missouri','Montana','Nebraska','Nevada','New Hampshire','New Jersey','New Mexico','New York','North Carolina','North Dakota','Ohio','Oklahoma','Oregon','Pennsylvania','Rhode Island','South Carolina','South Dakota','Tennessee','Texas','Utah','Vermont','Virginia','Washington','West Virginia','Wisconsin','Wyoming','District of Columbia'], \n",
    "                            \"Abbreviation\": ['AL','AK','AZ','AR','CA','CO','CT','DE','FL','GA','HI','ID','IL','IN','IA','KS','KY','LA','ME','MD','MA','MI','MN','MS','MO','MT','NE','NV','NH','NJ','NM','NY','NC','ND','OH','OK','OR','PA','RI','SC','SD','TN','TX','UT','VT','VA','WA','WV','WI','WY','DC']\n",
    "})\n",
    "lookup_states.head()"
   ]
  },
  {
   "cell_type": "code",
   "execution_count": 36,
   "metadata": {},
   "outputs": [
    {
     "data": {
      "text/html": [
       "<div>\n",
       "<style scoped>\n",
       "    .dataframe tbody tr th:only-of-type {\n",
       "        vertical-align: middle;\n",
       "    }\n",
       "\n",
       "    .dataframe tbody tr th {\n",
       "        vertical-align: top;\n",
       "    }\n",
       "\n",
       "    .dataframe thead th {\n",
       "        text-align: right;\n",
       "    }\n",
       "</style>\n",
       "<table border=\"1\" class=\"dataframe\">\n",
       "  <thead>\n",
       "    <tr style=\"text-align: right;\">\n",
       "      <th></th>\n",
       "      <th>GEO_ID</th>\n",
       "      <th>STATE</th>\n",
       "      <th>NAME</th>\n",
       "      <th>LSAD</th>\n",
       "      <th>CENSUSAREA</th>\n",
       "      <th>geometry</th>\n",
       "      <th>Abbreviation</th>\n",
       "    </tr>\n",
       "  </thead>\n",
       "  <tbody>\n",
       "    <tr>\n",
       "      <td>0</td>\n",
       "      <td>0400000US23</td>\n",
       "      <td>23</td>\n",
       "      <td>Maine</td>\n",
       "      <td></td>\n",
       "      <td>30842.923</td>\n",
       "      <td>(POLYGON ((-67.619761 44.519754, -67.61541 44....</td>\n",
       "      <td>ME</td>\n",
       "    </tr>\n",
       "    <tr>\n",
       "      <td>1</td>\n",
       "      <td>0400000US25</td>\n",
       "      <td>25</td>\n",
       "      <td>Massachusetts</td>\n",
       "      <td></td>\n",
       "      <td>7800.058</td>\n",
       "      <td>(POLYGON ((-70.832044 41.606504, -70.823735 41...</td>\n",
       "      <td>MA</td>\n",
       "    </tr>\n",
       "    <tr>\n",
       "      <td>2</td>\n",
       "      <td>0400000US26</td>\n",
       "      <td>26</td>\n",
       "      <td>Michigan</td>\n",
       "      <td></td>\n",
       "      <td>56538.901</td>\n",
       "      <td>(POLYGON ((-88.684434 48.115785, -88.675628 48...</td>\n",
       "      <td>MI</td>\n",
       "    </tr>\n",
       "    <tr>\n",
       "      <td>3</td>\n",
       "      <td>0400000US30</td>\n",
       "      <td>30</td>\n",
       "      <td>Montana</td>\n",
       "      <td></td>\n",
       "      <td>145545.801</td>\n",
       "      <td>POLYGON ((-104.057698 44.997431, -104.250145 4...</td>\n",
       "      <td>MT</td>\n",
       "    </tr>\n",
       "    <tr>\n",
       "      <td>4</td>\n",
       "      <td>0400000US32</td>\n",
       "      <td>32</td>\n",
       "      <td>Nevada</td>\n",
       "      <td></td>\n",
       "      <td>109781.180</td>\n",
       "      <td>POLYGON ((-114.0506 37.000396, -114.049995 36....</td>\n",
       "      <td>NV</td>\n",
       "    </tr>\n",
       "  </tbody>\n",
       "</table>\n",
       "</div>"
      ],
      "text/plain": [
       "        GEO_ID STATE           NAME LSAD  CENSUSAREA  \\\n",
       "0  0400000US23    23          Maine        30842.923   \n",
       "1  0400000US25    25  Massachusetts         7800.058   \n",
       "2  0400000US26    26       Michigan        56538.901   \n",
       "3  0400000US30    30        Montana       145545.801   \n",
       "4  0400000US32    32         Nevada       109781.180   \n",
       "\n",
       "                                            geometry Abbreviation  \n",
       "0  (POLYGON ((-67.619761 44.519754, -67.61541 44....           ME  \n",
       "1  (POLYGON ((-70.832044 41.606504, -70.823735 41...           MA  \n",
       "2  (POLYGON ((-88.684434 48.115785, -88.675628 48...           MI  \n",
       "3  POLYGON ((-104.057698 44.997431, -104.250145 4...           MT  \n",
       "4  POLYGON ((-114.0506 37.000396, -114.049995 36....           NV  "
      ]
     },
     "execution_count": 36,
     "metadata": {},
     "output_type": "execute_result"
    }
   ],
   "source": [
    "#Merge the state abbreviations into the geoJSON file\n",
    "us_states=pd.merge(us_states, lookup_states, on=\"NAME\")\n",
    "us_states.head()"
   ]
  },
  {
   "cell_type": "markdown",
   "metadata": {},
   "source": [
    "Finally, we recall that the medians data contains two \"categories\" - \"US Virgin Is.\" and \"Outside US\" that we will not be using. \n",
    "\n",
    "We define a new dataframe with just the data on US states."
   ]
  },
  {
   "cell_type": "code",
   "execution_count": 37,
   "metadata": {},
   "outputs": [],
   "source": [
    "#First get rid of US Virgin islands and Outside US\n",
    "non_US=[int(loccat_success[loccat_success[\"Loc category\"]==\"US Virgin Is.\"].index.values), \n",
    "        int(loccat_success[loccat_success[\"Loc category\"]==\"Outside US\"].index.values)]\n",
    "\n",
    "loccat_map=loccat_success.drop(non_US) #indices for \"US Virgin Is.\" and \"Outside US\""
   ]
  },
  {
   "cell_type": "code",
   "execution_count": 38,
   "metadata": {},
   "outputs": [],
   "source": [
    "# generate choropleth map \n",
    "us_map.choropleth(\n",
    "    geo_data=us_states,\n",
    "    data=loccat_map,\n",
    "    columns=['Loc category', 'Success likelihood'],\n",
    "    key_on='feature.properties.Abbreviation',\n",
    "    fill_color='YlGn', \n",
    "    fill_opacity=0.4, \n",
    "    line_opacity=0.2,\n",
    "    legend_name='Average PoS by state'\n",
    ")\n",
    "\n",
    "# Save map as html file\n",
    "us_map.save(\"USchloro.html\")"
   ]
  }
 ],
 "metadata": {
  "hide_code_all_hidden": true,
  "kernelspec": {
   "display_name": "Python 3",
   "language": "python",
   "name": "python3"
  },
  "language_info": {
   "codemirror_mode": {
    "name": "ipython",
    "version": 3
   },
   "file_extension": ".py",
   "mimetype": "text/x-python",
   "name": "python",
   "nbconvert_exporter": "python",
   "pygments_lexer": "ipython3",
   "version": "3.7.4"
  }
 },
 "nbformat": 4,
 "nbformat_minor": 2
}
